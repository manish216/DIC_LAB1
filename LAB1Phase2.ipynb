{
 "cells": [
  {
   "cell_type": "markdown",
   "metadata": {},
   "source": [
    "### LIBRARIES"
   ]
  },
  {
   "cell_type": "code",
   "execution_count": 4,
   "metadata": {},
   "outputs": [
    {
     "name": "stderr",
     "output_type": "stream",
     "text": [
      "\n",
      "Attaching package: 'dplyr'\n",
      "\n",
      "The following objects are masked from 'package:stats':\n",
      "\n",
      "    filter, lag\n",
      "\n",
      "The following objects are masked from 'package:base':\n",
      "\n",
      "    intersect, setdiff, setequal, union\n",
      "\n",
      "\n",
      "Attaching package: 'tidyr'\n",
      "\n",
      "The following object is masked from 'package:reshape2':\n",
      "\n",
      "    smiths\n",
      "\n"
     ]
    }
   ],
   "source": [
    "library(dplyr)\n",
    "library(ggplot2)\n",
    "library(reshape2)\n",
    "library(patternplot)\n",
    "library(tidyr)\n",
    "library(scales)\n"
   ]
  },
  {
   "cell_type": "markdown",
   "metadata": {},
   "source": [
    "## GRAPH 1"
   ]
  },
  {
   "cell_type": "code",
   "execution_count": 23,
   "metadata": {},
   "outputs": [],
   "source": [
    "graph1 = read.csv(\"WHO_NREVSS_Clinical_Labs.csv\",header = TRUE)\n",
    "gdata1 <- mutate(graph1,YEAR_WEEK=paste(YEAR, sprintf(\"%02d\",WEEK),sep=\"\"))\n",
    "gdata1 <- subset(gdata1,(YEAR_WEEK<=201904))\n",
    "gdata1.new <- subset(gdata1, select=c(\"TOTAL.A\", \"TOTAL.B\", \"YEAR_WEEK\"))\n",
    "gdata1.new1 <- melt(gdata1.new,id.var=\"YEAR_WEEK\")"
   ]
  },
  {
   "cell_type": "code",
   "execution_count": 30,
   "metadata": {},
   "outputs": [
    {
     "name": "stdout",
     "output_type": "stream",
     "text": [
      "[1] 7840\n"
     ]
    }
   ],
   "source": [
    "A_max = max(gdata1$TOTAL.A, na.rm = TRUE)\n",
    "#print(A_max)\n",
    "\n",
    "Per_max = max(gdata1$PERCENT.POSITIVE, na.rm = TRUE)\n",
    "scale.point = (A_max/Per_max)-32\n",
    "plt1 = ggplot(gdata1,aes(x=YEAR_WEEK))+ #facet_wrap(~ variable)+\n",
    "  geom_bar(data=gdata1.new1,aes(x=YEAR_WEEK,y=value,fill=variable),stat=\"identity\",color=\"black\") + \n",
    "  scale_x_discrete(expand=expand_scale(mult = c(0, 0.6), add = c(1, 0)))+\n",
    "  scale_y_continuous(name = expression(\"Number of Positive Specimen\"),\n",
    "                     breaks = (seq(0,15000,by=2000)),\n",
    "                     expand=c(0,0),sec.axis = sec_axis(~.*1/scale.point,name = \"Percent Positive\"),limits=c(0,A_max+2000))+\n",
    "  geom_line(aes(y=as.numeric((PERCENT.POSITIVE)*scale.point),group=1,color=\"Percent Positive\"),linetype=\"solid\",stat=\"identity\", size=1)+\n",
    "  geom_line(aes(y=as.numeric((PERCENT.A)*scale.point),group=1,color=\"% Positive Flu A\"),linetype=\"dashed\",stat=\"identity\", size=0.6)+\n",
    "  geom_line(aes(y=as.numeric((PERCENT.B)*scale.point),group=1,color=\"% Positive Flu B\"),linetype=\"dotted\",stat=\"identity\", size=1)+\n",
    "  theme(panel.grid.major = element_blank(), panel.grid.minor = element_blank(),\n",
    "        panel.background = element_blank(), axis.line = element_line(color = \"black\"),\n",
    "        legend.position=c(0.85,0.8),legend.box=\"vertical\",legend.title = element_blank(),\n",
    "        legend.background = element_rect(fill=\"white\",size=2),legend.text=element_text(size=8,face=\"bold\"),\n",
    "        axis.text.x = element_text(size=7,angle=45, hjust=1,face=\"bold\"),\n",
    "        axis.text.y = element_text(face=\"bold\"),\n",
    "        plot.title = element_text(size = 10, face = \"bold\", hjust=0.5))+\n",
    "  scale_color_manual(name=c(\"% Positive Flu A\",\"% Positive Flu B\",\"Percent Positive\"),values=c(\"red\",\"blue\",\"black\"))+\n",
    "  scale_fill_manual(name=c(\"A\",\"B\"),values=c(\"yellow\",\"green\"))+\n",
    "labs(title=\"Influenza Positive Tests Reported to CDC by U.S. Clinical Laboratories,\n",
    "National Summary, 2018-2019 Season\",\n",
    "      x=\"WEEK\", caption=\"Source: CDC.gov\")+\n",
    "theme(plot.margin=unit(c(1,1,1.5,1),\"cm\"))\n",
    "jpeg('rplot.jpg')\n",
    "plt2\n",
    "dev.off()"
   ]
  },
  {
   "cell_type": "code",
   "execution_count": null,
   "metadata": {},
   "outputs": [],
   "source": []
  },
  {
   "cell_type": "code",
   "execution_count": 31,
   "metadata": {},
   "outputs": [
    {
     "data": {
      "image/png": "[encoded data removed]",
      "text/plain": [
       "plot without title"
      ]
     },
     "metadata": {},
     "output_type": "display_data"
    }
   ],
   "source": [
    "plt1"
   ]
  },
  {
   "cell_type": "markdown",
   "metadata": {},
   "source": [
    "## GRAPH 2"
   ]
  },
  {
   "cell_type": "code",
   "execution_count": 39,
   "metadata": {
    "collapsed": true
   },
   "outputs": [
    {
     "data": {
      "text/html": [
       "<table>\n",
       "<thead><tr><th scope=col>REGION.TYPE</th><th scope=col>REGION</th><th scope=col>YEAR</th><th scope=col>WEEK</th><th scope=col>TOTAL.SPECIMENS</th><th scope=col>A..2009.H1N1.</th><th scope=col>A..H3.</th><th scope=col>A..Subtyping.not.Performed.</th><th scope=col>B</th><th scope=col>BVic</th><th scope=col>BYam</th><th scope=col>H3N2v</th></tr></thead>\n",
       "<tbody>\n",
       "\t<tr><td>National</td><td>X       </td><td>2018    </td><td>40      </td><td> 795    </td><td>  29    </td><td> 11     </td><td>  7     </td><td> 0      </td><td> 7      </td><td>11      </td><td>0       </td></tr>\n",
       "\t<tr><td>National</td><td>X       </td><td>2018    </td><td>41      </td><td> 900    </td><td>  52    </td><td> 11     </td><td>  7     </td><td> 5      </td><td> 3      </td><td> 5      </td><td>0       </td></tr>\n",
       "\t<tr><td>National</td><td>X       </td><td>2018    </td><td>42      </td><td>1090    </td><td>  51    </td><td> 21     </td><td> 13     </td><td> 1      </td><td> 2      </td><td>14      </td><td>0       </td></tr>\n",
       "\t<tr><td>National</td><td>X       </td><td>2018    </td><td>43      </td><td>1102    </td><td>  74    </td><td> 35     </td><td>  3     </td><td> 3      </td><td> 0      </td><td>13      </td><td>0       </td></tr>\n",
       "\t<tr><td>National</td><td>X       </td><td>2018    </td><td>44      </td><td>1228    </td><td>  84    </td><td> 23     </td><td>  2     </td><td> 1      </td><td> 1      </td><td> 8      </td><td>0       </td></tr>\n",
       "\t<tr><td>National</td><td>X       </td><td>2018    </td><td>45      </td><td>1310    </td><td> 117    </td><td> 27     </td><td> 14     </td><td> 4      </td><td> 4      </td><td> 7      </td><td>0       </td></tr>\n",
       "\t<tr><td>National</td><td>X       </td><td>2018    </td><td>46      </td><td>1400    </td><td> 147    </td><td> 40     </td><td>  9     </td><td> 0      </td><td> 2      </td><td> 3      </td><td>0       </td></tr>\n",
       "\t<tr><td>National</td><td>X       </td><td>2018    </td><td>47      </td><td>1106    </td><td> 211    </td><td> 53     </td><td>  9     </td><td> 1      </td><td> 2      </td><td> 5      </td><td>0       </td></tr>\n",
       "\t<tr><td>National</td><td>X       </td><td>2018    </td><td>48      </td><td>1681    </td><td> 321    </td><td> 63     </td><td>  9     </td><td> 1      </td><td> 2      </td><td>10      </td><td>0       </td></tr>\n",
       "\t<tr><td>National</td><td>X       </td><td>2018    </td><td>49      </td><td>1690    </td><td> 355    </td><td> 89     </td><td> 14     </td><td> 8      </td><td> 3      </td><td> 7      </td><td>0       </td></tr>\n",
       "\t<tr><td>National</td><td>X       </td><td>2018    </td><td>50      </td><td>2149    </td><td> 667    </td><td>166     </td><td> 16     </td><td> 3      </td><td> 7      </td><td> 6      </td><td>0       </td></tr>\n",
       "\t<tr><td>National</td><td>X       </td><td>2018    </td><td>51      </td><td>2607    </td><td>1100    </td><td>227     </td><td> 78     </td><td> 9      </td><td>20      </td><td> 7      </td><td>0       </td></tr>\n",
       "\t<tr><td>National</td><td>X       </td><td>2018    </td><td>52      </td><td>2524    </td><td>1216    </td><td>263     </td><td>113     </td><td> 9      </td><td>18      </td><td> 9      </td><td>0       </td></tr>\n",
       "\t<tr><td>National</td><td>X       </td><td>2019    </td><td> 1      </td><td>2755    </td><td>1125    </td><td>270     </td><td>168     </td><td> 6      </td><td> 6      </td><td>14      </td><td>0       </td></tr>\n",
       "\t<tr><td>National</td><td>X       </td><td>2019    </td><td> 2      </td><td>3117    </td><td>1345    </td><td>218     </td><td>105     </td><td>14      </td><td> 2      </td><td>14      </td><td>0       </td></tr>\n",
       "\t<tr><td>National</td><td>X       </td><td>2019    </td><td> 3      </td><td>2997    </td><td>1348    </td><td>319     </td><td> 33     </td><td> 9      </td><td>15      </td><td>14      </td><td>0       </td></tr>\n",
       "\t<tr><td>National</td><td>X       </td><td>2019    </td><td> 4      </td><td>3074    </td><td>1329    </td><td>441     </td><td> 50     </td><td>12      </td><td>15      </td><td> 9      </td><td>0       </td></tr>\n",
       "\t<tr><td>National</td><td>X       </td><td>2019    </td><td> 5      </td><td>3393    </td><td>1360    </td><td>641     </td><td> 33     </td><td>14      </td><td>20      </td><td>14      </td><td>0       </td></tr>\n",
       "\t<tr><td>National</td><td>X       </td><td>2019    </td><td> 6      </td><td>3364    </td><td>1260    </td><td>757     </td><td> 29     </td><td>11      </td><td> 8      </td><td> 5      </td><td>0       </td></tr>\n",
       "\t<tr><td>National</td><td>X       </td><td>2019    </td><td> 7      </td><td>1792    </td><td> 529    </td><td>467     </td><td> 62     </td><td> 7      </td><td> 7      </td><td> 3      </td><td>0       </td></tr>\n",
       "</tbody>\n",
       "</table>\n"
      ],
      "text/latex": [
       "\\begin{tabular}{r|llllllllllll}\n",
       " REGION.TYPE & REGION & YEAR & WEEK & TOTAL.SPECIMENS & A..2009.H1N1. & A..H3. & A..Subtyping.not.Performed. & B & BVic & BYam & H3N2v\\\\\n",
       "\\hline\n",
       "\t National & X        & 2018     & 40       &  795     &   29     &  11      &   7      &  0       &  7       & 11       & 0       \\\\\n",
       "\t National & X        & 2018     & 41       &  900     &   52     &  11      &   7      &  5       &  3       &  5       & 0       \\\\\n",
       "\t National & X        & 2018     & 42       & 1090     &   51     &  21      &  13      &  1       &  2       & 14       & 0       \\\\\n",
       "\t National & X        & 2018     & 43       & 1102     &   74     &  35      &   3      &  3       &  0       & 13       & 0       \\\\\n",
       "\t National & X        & 2018     & 44       & 1228     &   84     &  23      &   2      &  1       &  1       &  8       & 0       \\\\\n",
       "\t National & X        & 2018     & 45       & 1310     &  117     &  27      &  14      &  4       &  4       &  7       & 0       \\\\\n",
       "\t National & X        & 2018     & 46       & 1400     &  147     &  40      &   9      &  0       &  2       &  3       & 0       \\\\\n",
       "\t National & X        & 2018     & 47       & 1106     &  211     &  53      &   9      &  1       &  2       &  5       & 0       \\\\\n",
       "\t National & X        & 2018     & 48       & 1681     &  321     &  63      &   9      &  1       &  2       & 10       & 0       \\\\\n",
       "\t National & X        & 2018     & 49       & 1690     &  355     &  89      &  14      &  8       &  3       &  7       & 0       \\\\\n",
       "\t National & X        & 2018     & 50       & 2149     &  667     & 166      &  16      &  3       &  7       &  6       & 0       \\\\\n",
       "\t National & X        & 2018     & 51       & 2607     & 1100     & 227      &  78      &  9       & 20       &  7       & 0       \\\\\n",
       "\t National & X        & 2018     & 52       & 2524     & 1216     & 263      & 113      &  9       & 18       &  9       & 0       \\\\\n",
       "\t National & X        & 2019     &  1       & 2755     & 1125     & 270      & 168      &  6       &  6       & 14       & 0       \\\\\n",
       "\t National & X        & 2019     &  2       & 3117     & 1345     & 218      & 105      & 14       &  2       & 14       & 0       \\\\\n",
       "\t National & X        & 2019     &  3       & 2997     & 1348     & 319      &  33      &  9       & 15       & 14       & 0       \\\\\n",
       "\t National & X        & 2019     &  4       & 3074     & 1329     & 441      &  50      & 12       & 15       &  9       & 0       \\\\\n",
       "\t National & X        & 2019     &  5       & 3393     & 1360     & 641      &  33      & 14       & 20       & 14       & 0       \\\\\n",
       "\t National & X        & 2019     &  6       & 3364     & 1260     & 757      &  29      & 11       &  8       &  5       & 0       \\\\\n",
       "\t National & X        & 2019     &  7       & 1792     &  529     & 467      &  62      &  7       &  7       &  3       & 0       \\\\\n",
       "\\end{tabular}\n"
      ],
      "text/markdown": [
       "\n",
       "| REGION.TYPE | REGION | YEAR | WEEK | TOTAL.SPECIMENS | A..2009.H1N1. | A..H3. | A..Subtyping.not.Performed. | B | BVic | BYam | H3N2v |\n",
       "|---|---|---|---|---|---|---|---|---|---|---|---|\n",
       "| National | X        | 2018     | 40       |  795     |   29     |  11      |   7      |  0       |  7       | 11       | 0        |\n",
       "| National | X        | 2018     | 41       |  900     |   52     |  11      |   7      |  5       |  3       |  5       | 0        |\n",
       "| National | X        | 2018     | 42       | 1090     |   51     |  21      |  13      |  1       |  2       | 14       | 0        |\n",
       "| National | X        | 2018     | 43       | 1102     |   74     |  35      |   3      |  3       |  0       | 13       | 0        |\n",
       "| National | X        | 2018     | 44       | 1228     |   84     |  23      |   2      |  1       |  1       |  8       | 0        |\n",
       "| National | X        | 2018     | 45       | 1310     |  117     |  27      |  14      |  4       |  4       |  7       | 0        |\n",
       "| National | X        | 2018     | 46       | 1400     |  147     |  40      |   9      |  0       |  2       |  3       | 0        |\n",
       "| National | X        | 2018     | 47       | 1106     |  211     |  53      |   9      |  1       |  2       |  5       | 0        |\n",
       "| National | X        | 2018     | 48       | 1681     |  321     |  63      |   9      |  1       |  2       | 10       | 0        |\n",
       "| National | X        | 2018     | 49       | 1690     |  355     |  89      |  14      |  8       |  3       |  7       | 0        |\n",
       "| National | X        | 2018     | 50       | 2149     |  667     | 166      |  16      |  3       |  7       |  6       | 0        |\n",
       "| National | X        | 2018     | 51       | 2607     | 1100     | 227      |  78      |  9       | 20       |  7       | 0        |\n",
       "| National | X        | 2018     | 52       | 2524     | 1216     | 263      | 113      |  9       | 18       |  9       | 0        |\n",
       "| National | X        | 2019     |  1       | 2755     | 1125     | 270      | 168      |  6       |  6       | 14       | 0        |\n",
       "| National | X        | 2019     |  2       | 3117     | 1345     | 218      | 105      | 14       |  2       | 14       | 0        |\n",
       "| National | X        | 2019     |  3       | 2997     | 1348     | 319      |  33      |  9       | 15       | 14       | 0        |\n",
       "| National | X        | 2019     |  4       | 3074     | 1329     | 441      |  50      | 12       | 15       |  9       | 0        |\n",
       "| National | X        | 2019     |  5       | 3393     | 1360     | 641      |  33      | 14       | 20       | 14       | 0        |\n",
       "| National | X        | 2019     |  6       | 3364     | 1260     | 757      |  29      | 11       |  8       |  5       | 0        |\n",
       "| National | X        | 2019     |  7       | 1792     |  529     | 467      |  62      |  7       |  7       |  3       | 0        |\n",
       "\n"
      ],
      "text/plain": [
       "   REGION.TYPE REGION YEAR WEEK TOTAL.SPECIMENS A..2009.H1N1. A..H3.\n",
       "1  National    X      2018 40    795              29           11   \n",
       "2  National    X      2018 41    900              52           11   \n",
       "3  National    X      2018 42   1090              51           21   \n",
       "4  National    X      2018 43   1102              74           35   \n",
       "5  National    X      2018 44   1228              84           23   \n",
       "6  National    X      2018 45   1310             117           27   \n",
       "7  National    X      2018 46   1400             147           40   \n",
       "8  National    X      2018 47   1106             211           53   \n",
       "9  National    X      2018 48   1681             321           63   \n",
       "10 National    X      2018 49   1690             355           89   \n",
       "11 National    X      2018 50   2149             667          166   \n",
       "12 National    X      2018 51   2607            1100          227   \n",
       "13 National    X      2018 52   2524            1216          263   \n",
       "14 National    X      2019  1   2755            1125          270   \n",
       "15 National    X      2019  2   3117            1345          218   \n",
       "16 National    X      2019  3   2997            1348          319   \n",
       "17 National    X      2019  4   3074            1329          441   \n",
       "18 National    X      2019  5   3393            1360          641   \n",
       "19 National    X      2019  6   3364            1260          757   \n",
       "20 National    X      2019  7   1792             529          467   \n",
       "   A..Subtyping.not.Performed. B  BVic BYam H3N2v\n",
       "1    7                          0  7   11   0    \n",
       "2    7                          5  3    5   0    \n",
       "3   13                          1  2   14   0    \n",
       "4    3                          3  0   13   0    \n",
       "5    2                          1  1    8   0    \n",
       "6   14                          4  4    7   0    \n",
       "7    9                          0  2    3   0    \n",
       "8    9                          1  2    5   0    \n",
       "9    9                          1  2   10   0    \n",
       "10  14                          8  3    7   0    \n",
       "11  16                          3  7    6   0    \n",
       "12  78                          9 20    7   0    \n",
       "13 113                          9 18    9   0    \n",
       "14 168                          6  6   14   0    \n",
       "15 105                         14  2   14   0    \n",
       "16  33                          9 15   14   0    \n",
       "17  50                         12 15    9   0    \n",
       "18  33                         14 20   14   0    \n",
       "19  29                         11  8    5   0    \n",
       "20  62                          7  7    3   0    "
      ]
     },
     "metadata": {},
     "output_type": "display_data"
    }
   ],
   "source": [
    "gdata2 <- read.csv(\"WHO_NREVSS_Public_Health_Labs.csv\",header=T)\n",
    "gdata2.new <- mutate(gdata2,YEAR_WEEK=paste(YEAR, sprintf(\"%02d\",WEEK),sep=\"\"))\n",
    "gdata2.new <- subset(gdata2.new,(YEAR_WEEK<=201904))\n",
    "gdata2.temp <- subset(gdata2.new, select=c(\"A..Subtyping.not.Performed.\", \"A..2009.H1N1.\", \"A..H3.\",\"B\",\"BVic\",\"BYam\",\"H3N2v\",\"YEAR_WEEK\"))\n",
    "gdata2.new1 <- melt(gdata2.temp,id.var=\"YEAR_WEEK\")\n",
    "gdata2\n"
   ]
  },
  {
   "cell_type": "code",
   "execution_count": 40,
   "metadata": {},
   "outputs": [],
   "source": [
    "plt2 <- ggplot(gdata2.new1,aes(x=YEAR_WEEK,y=value,fill=variable))+ \n",
    "        scale_x_discrete(expand=expand_scale(mult = c(0, 0.6), add = c(1, 0)))+\n",
    "        scale_y_continuous(name = expression(\"number of positive specimen\"),\n",
    "                           breaks = seq(0,2500, by = 500),expand=c(0,0))+\n",
    "        geom_bar(color=\"black\",stat=\"identity\")+\n",
    "        theme(panel.grid.major = element_blank(), panel.grid.minor = element_blank(),\n",
    "        panel.background = element_blank(), axis.line = element_line(color = \"black\"),\n",
    "        legend.position=c(0.9,0.8),legend.box=\"vertical\",legend.title = element_blank(),\n",
    "        legend.background = element_rect(fill=\"white\",size=2),legend.text=element_text(size=8,face=\"bold\"),\n",
    "        axis.text.x = element_text(size=7,angle=45, hjust=1,face=\"bold\"),\n",
    "        axis.text.y = element_text(face=\"bold\"),\n",
    "        plot.title = element_text(size = 10, face = \"bold\", hjust=0.5))+\n",
    "        scale_fill_manual(name=c(\"A\",\"A(H1N1)2009\",\"A(H3N2)\",\"B\",\"B(Victoria)\",\"B(yamagata)\",\"H3N2v\"),\n",
    "                          values=c(\"yellow\",\"orange\",\"red\",\"darkgreen\",\"lightgreen\",\"green\",\"violet\"))+\n",
    "        labs(title=\"Influenza Positive Tests Reported to CDC by U.S. Public Health Laboratories,\n",
    "        National Summary, 2018-2019 Season\",\n",
    "      x=\"WEEK\", caption=\"Source: CDC.gov\")+\n",
    "       theme(plot.margin=unit(c(1,1,1.5,3),\"cm\"))"
   ]
  },
  {
   "cell_type": "code",
   "execution_count": 41,
   "metadata": {},
   "outputs": [
    {
     "data": {
      "image/png": "[encoded data removed]",
      "text/plain": [
       "plot without title"
      ]
     },
     "metadata": {},
     "output_type": "display_data"
    }
   ],
   "source": [
    "plt2"
   ]
  },
  {
   "cell_type": "markdown",
   "metadata": {},
   "source": [
    "## GRAPH 3"
   ]
  },
  {
   "cell_type": "code",
   "execution_count": 9,
   "metadata": {},
   "outputs": [
    {
     "name": "stderr",
     "output_type": "stream",
     "text": [
      "\n",
      "Attaching package: 'plotrix'\n",
      "\n",
      "The following object is masked from 'package:scales':\n",
      "\n",
      "    rescale\n",
      "\n"
     ]
    }
   ],
   "source": [
    "library(plotrix)\n",
    "gdata4 <- read.csv(\"Genetic07.csv\",header=F)\n",
    "gdata4.n <- gdata2\n",
    "gdata4.1 <- c(sum(gdata4.n$A..2009.H1N1.),sum(gdata4.n$A..H3.),sum(gdata4.n$A..Subtyping.not.Performed.),sum(gdata4.n$B),sum(gdata4.n$BVic),sum(gdata4.n$BYam))\n"
   ]
  },
  {
   "cell_type": "code",
   "execution_count": 10,
   "metadata": {},
   "outputs": [],
   "source": [
    "gdata4.B <- gdata4[1:3,3:5]\n",
    "gdata4.A <- gdata4[6:8,3:5]\n",
    "gdata4.Y <- gdata4[4,3:5] \n",
    "gdata4.P <- gdata4[5,3:5]"
   ]
  },
  {
   "cell_type": "code",
   "execution_count": 11,
   "metadata": {},
   "outputs": [
    {
     "name": "stderr",
     "output_type": "stream",
     "text": [
      "Warning message in cos(angles) * (radius + explode):\n",
      "\"longer object length is not a multiple of shorter object length\"Warning message in sin(angles) * (yradius + explode):\n",
      "\"longer object length is not a multiple of shorter object length\""
     ]
    },
    {
     "data": {
      "image/png": "[encoded data removed]",
      "text/plain": [
       "Plot with title \"Influenza B Yamagata\""
      ]
     },
     "metadata": {},
     "output_type": "display_data"
    }
   ],
   "source": [
    "layout(matrix(c(1,1,2,3,4,5), 2, 3, byrow = F))\n",
    "########################################################\n",
    "########################################################\n",
    "lbls.B <- c(\"V1A\", \"V1A.1\", \"V1A-3DEL\")\n",
    "lbls1.B <- gdata4.B$V4\n",
    "pct.B <- round(gdata4.B$V4/sum(gdata4.B$V4)*100)\n",
    "pct.B <- paste(pct.B,\"%\",sep=\"\")\n",
    "lbls.B <- paste(lbls.B, pct.B,sep=\"\\n\") # add percents to labels\n",
    "lbls.B <- paste(lbls.B,lbls1.B,sep=\"\\n\") # ad % to labels\n",
    "##########################################################\n",
    "lbls.A <- c(\"3C.2a\", \"3C.2a1\", \"3C.3a\")\n",
    "lbls1.A <- gdata4.A$V4\n",
    "pct.A <- round(gdata4.A$V4/sum(gdata4.A$V4)*100)\n",
    "pct.A <- paste(pct.A,\"%\",sep=\"\")\n",
    "lbls.A <- paste(lbls.A, pct.A,sep=\"\\n\") # add percents to labels\n",
    "lbls.A <- paste(lbls.A,lbls1.A,sep=\"\\n\") # ad % to labels\n",
    "##########################################################\n",
    "lbls.Y <- c(\"Y3\")\n",
    "lbls1.Y <- gdata4.Y$V4\n",
    "pct.Y <- round(gdata4.Y$V4/sum(gdata4.Y$V4)*100)\n",
    "pct.Y <- paste(pct.Y,\"%\",sep=\"\")\n",
    "lbls.Y <- paste(lbls.Y, pct.Y,sep=\"\\n\") # add percents to labels\n",
    "lbls.Y <- paste(lbls.Y,lbls1.Y,sep=\"\\n\") # ad % to labels\n",
    "##########################################################\n",
    "lbls.P <- c(\"6B.1\")\n",
    "lbls1.P <- gdata4.P$V4\n",
    "pct.P <- round(gdata4.P$V4/sum(gdata4.P$V4)*100)\n",
    "pct.P <- paste(pct.P,\"%\",sep=\"\")\n",
    "lbls.P <- paste(lbls.P, pct.P,sep=\"\\n\") # add percents to labels\n",
    "lbls.P <- paste(lbls.P,lbls1.P,sep=\"\\n\") # ad % to labels\n",
    "##########################################################\n",
    "#=========================================================\n",
    " plot(0,xlim=c(3,3),ylim=c(1,4),type=\"n\",axes=F,xlab=\"\",ylab=\"\",main=\"Influenza PositiveTests Reported toCDC by U.S.\n",
    "          Public Health Laboratories,\n",
    "        National Summary, 2018-2019 Season\",cex.main=0.8)\n",
    " bisect.angles<-floating.pie(3,3,gdata4.1,col=c(\"orange\",\"red\",\"yellow\",\"green\",\"lightgreen\",\"darkgreen\")\n",
    "                            ,radius=1,startpos=90)\n",
    " pie.labels(3,3,bisect.angles,labels = gdata4.1,minangle=0.30,explode=c(0.01,0.04,0.09,0.05))\n",
    "#pie(gdata4.1,clockwise=T,col=c(\"orange\",\"red\",\"yellow\",\"green\",\"lightgreen\",\"darkgreen\"),labels=gdata4.1,\n",
    "#    main=\"Influenza Positive Tests Reported to CDC by U.S.\n",
    "#          Public Health Laboratories,\n",
    "#        National Summary, 2018-2019 Season\", edges = 200,radius =1.1,cex=0.7 )\n",
    "par(xpd=TRUE)\n",
    "\n",
    "legend(1,2, c(\"InfluenzaA(H3N2)\", \"InfluenzaA(H1N1)pdm09\",\n",
    "             \"Influenza A subtype\",\"Influenza B victoria\",\n",
    "             \"Influenza B Yamagata\",\"Influenza B(lineage not determined)\"),\n",
    "        pch=15,col=c(\"red\", \"orange\",\"yellow\",\"lightgreen\",\"green\",\"darkgreen\"),cex=1)\n",
    "#--------------------------------------------------------------------\n",
    "pie(gdata4.A$V4,labels = lbls.A, col=c(\"red\"),\n",
    "   main=\"Influenza A (H3N2)\",density=c(8,10,30),angle=c(0,60,90))\n",
    "#--------------------------------------------------------------------\n",
    "pie(gdata4.B$V4,labels = lbls.B, col=c(\"red\",\"blue\",\"green\"),\n",
    "   main=\"Influenza B Victoria\",density=c(5,20,3),clockwise=T)\n",
    "#--------------------------------------------------------------------\n",
    "pie(gdata4.P$V4,labels = lbls.P, col=c(\"orange\"),\n",
    "   main=\"Influenza A(H1N1) pdm09\",density=c(35),angle=c(0),clockwise=T) \n",
    "#--------------------------------------------------------------------\n",
    "pie(gdata4.Y$V4,labels = lbls.Y, col=c(\"green\"),\n",
    "   main=\"Influenza B Yamagata\",density=c(35),clockwise=T) "
   ]
  },
  {
   "cell_type": "code",
   "execution_count": null,
   "metadata": {},
   "outputs": [],
   "source": []
  },
  {
   "cell_type": "markdown",
   "metadata": {},
   "source": [
    "## GRAPH 4"
   ]
  },
  {
   "cell_type": "code",
   "execution_count": 7,
   "metadata": {},
   "outputs": [
    {
     "name": "stdout",
     "output_type": "stream",
     "text": [
      "[1] 41\n"
     ]
    }
   ],
   "source": [
    "gdata5 <- read.csv(\"Weekly.csv\",header=T)\n",
    "gdata5.n <- gdata5 %>% separate(WEEK.NUMBER, c(\"YEAR\", \"WEEK\"))\n",
    "gdata5.new <- mutate(gdata5.n,YEAR_WEEK1=paste(YEAR, sprintf(WEEK),sep=\"\"))\n",
    "a  <- sum(subset(gdata5.new$NO..OF.DEATHS,((gdata5.new$YEAR ==2015|gdata5.new$YEAR ==2016 & gdata5.new$WEEK<=39))))\n",
    "b  <- sum(subset(gdata5.new$NO..OF.DEATHS,((((gdata5.new$YEAR ==2016& gdata5.new$WEEK>39)|(gdata5.new$YEAR ==2017 & gdata5.new$WEEK<=39))))))\n",
    "c  <- sum(subset(gdata5.new$NO..OF.DEATHS,((((gdata5.new$YEAR ==2017& gdata5.new$WEEK>39)|(gdata5.new$YEAR ==2018 & gdata5.new$WEEK<=39))))))\n",
    "d  <- sum(subset(gdata5.new$NO..OF.DEATHS,((((gdata5.new$YEAR ==2018& gdata5.new$WEEK>39)|(gdata5.new$YEAR ==2019 & gdata5.new$WEEK<=39))))))\n",
    "gdata5.new$YEAR_WEEK <- as.numeric(gdata5.new$YEAR_WEEK)\n",
    "#gdata5.new$YEAR_WEEK <- as.factor(gdata5.new$YEAR_WEEK)\n",
    "gdat <- data.frame(rbind(gdata5.new$PREVIOUS.WEEK.DEATHS,gdata5.new$CURRENT.WEEK.DEATHS))\n",
    "week =  gdata5.new$YEAR_WEEK[seq(1, length(gdata5.new$YEAR_WEEK[1:180]), 6) ]\n",
    "\n",
    "print(d)\n"
   ]
  },
  {
   "cell_type": "code",
   "execution_count": 12,
   "metadata": {},
   "outputs": [
    {
     "data": {
      "image/png": "[encoded data removed]",
      "text/plain": [
       "Plot with title \"Number of Influenza-Associated Pediatric Deaths \n",
       "by week of Deaths:2015-2016 Season to present\""
      ]
     },
     "metadata": {},
     "output_type": "display_data"
    }
   ],
   "source": [
    "plt <-barplot(as.matrix(gdat[1:180]),\n",
    "           main=\"Number of Influenza-Associated Pediatric Deaths \n",
    "by week of Deaths:2015-2016 Season to present\",\n",
    "                    ylab = \"Number of deaths\",xlab=\"WEEK\",\n",
    "                    beside=F, col=c(\"darkgreen\",\"lightblue\"),cex.main=0.95,\n",
    "                    las =1,ylim=c(0,30),xlim=c(6,200),col.axis=\"white\",cex.lab=0.88)\n",
    "axis(1,at= seq(6,205,6.8),adj=1,col=\"black\",col.axis=\"black\",col.ticks=\"black\",las=2,labels=week,cex.axis=0.75)\n",
    "axis(2,adj=1, col=\"black\",col.ticks=\"black\",las=1,labels=T)\n",
    "par(xpd=TRUE)\n",
    "legend(20,-4,c(\"Deaths Reported Previous Week\", \"Deaths Reported Current Week\"), \n",
    "       pch = 15,col=c(\"darkgreen\",\"lightblue\"),horiz=T,cex=0.88,bty=\"n\")\n",
    "lbls.1 <- paste(\"2015-2016 \\n Number of Deaths \\n Reported =\",a)\n",
    "text(25, 26, lbls.1,cex=0.9)\n",
    "lbls.2 <- paste(\"2016-2017 \\n Number of Deaths \\n Reported =\",b)\n",
    "text(80, 26, lbls.2,cex=0.9)\n",
    "lbls.3 <- paste(\"2017-2018 \\n Number of Deaths \\n Reported =\",c)\n",
    "text(140, 26, lbls.3,cex=0.9)\n",
    "lbls.4 <- paste(\"2018-2019 \\n Number of Deaths \\n Reported =\",d)\n",
    "text(195, 26, lbls.4,cex=0.9)"
   ]
  },
  {
   "cell_type": "markdown",
   "metadata": {},
   "source": [
    "## GRAPH 5"
   ]
  },
  {
   "cell_type": "code",
   "execution_count": 61,
   "metadata": {},
   "outputs": [],
   "source": [
    "gdata6 <- read.csv(\"StateDatabyWeekforMap_2018-19week4-4.csv\",header =T)\n",
    "gdata6$ACTIVITY.LEVEL_1 <- factor(gdata6$ACTIVITY.LEVEL.LABEL, levels = rev(levels(gdata6$ACTIVITY.LEVEL.LABEL)))\n",
    "gdata6.new <- gdata6 %>% separate(ACTIVITY.LEVEL, c(\"LEVEL\", \"NO\"))\n",
    "gdata6.new$NO <- as.numeric(gdata6.new$NO)\n",
    "colnames(gdata6.new)[which(names(gdata6.new) == \"STATENAME\")] <- \"region\"\n",
    "gdata6.new$region <- tolower(gdata6.new$region)\n",
    "#gdata6\n",
    "#sapply(gdata6.new,class)"
   ]
  },
  {
   "cell_type": "code",
   "execution_count": 62,
   "metadata": {},
   "outputs": [
    {
     "data": {
      "text/html": [
       "<ol class=list-inline>\n",
       "\t<li>83936</li>\n",
       "\t<li>18</li>\n",
       "</ol>\n"
      ],
      "text/latex": [
       "\\begin{enumerate*}\n",
       "\\item 83936\n",
       "\\item 18\n",
       "\\end{enumerate*}\n"
      ],
      "text/markdown": [
       "1. 83936\n",
       "2. 18\n",
       "\n",
       "\n"
      ],
      "text/plain": [
       "[1] 83936    18"
      ]
     },
     "metadata": {},
     "output_type": "display_data"
    }
   ],
   "source": [
    "m <- (urbnmapr::states)\n",
    "colnames(m)[which(names(m) == \"state_name\")] <- \"region\"\n",
    "m$region <- as.character(m$region)\n",
    "m$region <- tolower(m$region)\n",
    "ab1 <- merge(x=gdata6.new, y=m, by.x=c(\"region\"), by.y=c(\"region\"), all.x=TRUE)\n",
    "#sapply(ab1,class)\n",
    "dim(ab1)"
   ]
  },
  {
   "cell_type": "code",
   "execution_count": 63,
   "metadata": {},
   "outputs": [],
   "source": [
    "plt6 <- ggplot(ab1,aes(x=long,y=lat,group=group))+\n",
    "        geom_polygon(aes(fill=NO),size=1)+\n",
    "        geom_path(colour='black')+\n",
    "        coord_map(projection = \"albers\", lat0 = 39, lat1 = 45)+\n",
    "        #scale_fill_gradient( low = \"green\",\n",
    "        #high = \"red\",na.value = \"white\")+\n",
    "        theme_bw() +\n",
    "        theme(axis.line = element_line(colour = \"white\"),\n",
    "              axis.text= element_blank(),\n",
    "              axis.title=element_blank(),\n",
    "              axis.ticks=element_blank(),\n",
    "        panel.grid.major = element_blank(),\n",
    "        panel.grid.minor = element_blank(),\n",
    "        panel.border = element_blank(),\n",
    "        panel.background = element_blank())+\n",
    "        scale_fill_gradientn(colors =c(\"#00ff00\",\"#40ff00\",\"#80ff00\",\"#bfff00\",\"#ffff00\",\"#ffbf00\",\"#ff8000\",\"#ff4000\",\"#ff0000\"), \n",
    "          labels = c(\"Minimal\", \"Minimal\",\"Minimal\",\"Low\",\"Low\",\"moderate\", \"moderate\", \"High\",\"High\",\"High\"),\n",
    "           breaks = c(2,3,4,5,6,7,8,9,10,11),guide = guide_colourbar(barwidth =0.6,barheight =8))+labs(fill='ILI ACTIVITY LEVEL') + guides(fill=guide_legend(title=\"ILI ACTIVITY LEVEL\",reverse =T))"
   ]
  },
  {
   "cell_type": "code",
   "execution_count": 64,
   "metadata": {},
   "outputs": [
    {
     "name": "stderr",
     "output_type": "stream",
     "text": [
      "Warning message:\n",
      "\"Removed 3 rows containing missing values (geom_path).\""
     ]
    },
    {
     "data": {
      "image/png": "[encoded data removed]",
      "text/plain": [
       "plot without title"
      ]
     },
     "metadata": {},
     "output_type": "display_data"
    }
   ],
   "source": [
    "plt6"
   ]
  },
  {
   "cell_type": "markdown",
   "metadata": {},
   "source": [
    "## GRAPH 6"
   ]
  },
  {
   "cell_type": "markdown",
   "metadata": {},
   "source": [
    "### YEARLY"
   ]
  },
  {
   "cell_type": "code",
   "execution_count": 52,
   "metadata": {},
   "outputs": [],
   "source": [
    "graph7 = read.csv(\"Yearly_Graph6.csv\",header = TRUE)\n",
    "gdata7 <- mutate(graph7,YEAR_WEEK=paste(YEAR, sprintf(\"%02d\",WEEK),sep=\"\"))\n",
    "gdata7 <- subset(gdata7,(YEAR_WEEK>=201806 & YEAR_WEEK <=201904))\n",
    "gdata7.new <- subset(gdata7, select=c(\"TOTAL.A\",\"TOTAL.B\",\"YEAR_WEEK\"))\n",
    "gdata7.neww <- subset(gdata7,select =c(\"PERCENT.POSITIVE\",\"PERCENT.A\",\"PERCENT.B\",\"YEAR_WEEK\"))\n",
    "gdata7.new1 <- melt(gdata7.new,id.var=\"YEAR_WEEK\")\n",
    "gdata7.neww1 <- melt(gdata7.neww,id.var =\"YEAR_WEEK\")\n",
    "#graph7"
   ]
  },
  {
   "cell_type": "code",
   "execution_count": null,
   "metadata": {},
   "outputs": [],
   "source": []
  },
  {
   "cell_type": "code",
   "execution_count": 21,
   "metadata": {},
   "outputs": [
    {
     "name": "stdout",
     "output_type": "stream",
     "text": [
      "[1] 14116\n",
      "[1] 402.8516\n"
     ]
    }
   ],
   "source": [
    "A_max = max(gdata7$TOTAL.A, na.rm = TRUE)\n",
    "print(A_max)\n",
    "Per_max = max(gdata7$PERCENT.POSITIVE, na.rm = TRUE)\n",
    "scale.point = (A_max/Per_max)-120\n",
    "print(scale.point)\n",
    "plt7 = ggplot(gdata7,aes(x=YEAR_WEEK)) +\n",
    "  geom_col(data=gdata7.new1,aes(y=value,fill=variable),color=\"black\") +\n",
    "  scale_x_discrete(expand=c(0,0))+\n",
    "  scale_y_continuous(name = expression(\"Number of Positive Specimen\"),\n",
    "                     breaks = (seq(0,A_max+10000,by=1000)),\n",
    "                     expand=c(0,0),sec.axis = sec_axis(~.*1/scale.point,name = \"Percent Positive\"),limits=c(0,A_max+10000))+\n",
    "  geom_line(aes(y=as.numeric((PERCENT.POSITIVE)*scale.point),group=1,color=\"Percent Positive\"),linetype=\"solid\",stat=\"identity\", size=1)+\n",
    "  geom_line(aes(y=as.numeric((PERCENT.A)*scale.point),group=1,color=\"% Positive Flu A\"),linetype=\"dashed\",stat=\"identity\", size=0.6)+\n",
    "  geom_line(aes(y=as.numeric((PERCENT.B)*scale.point),group=1,color=\"% Positive Flu B\"),linetype=\"dotted\",stat=\"identity\", size=1)+\n",
    "  theme(panel.grid.major = element_blank(), panel.grid.minor = element_blank(),\n",
    "        panel.background = element_blank(), axis.line = element_line(color = \"black\"),\n",
    "        legend.position=c(0.85,0.8),legend.box=\"vertical\",legend.title = element_blank(),\n",
    "        legend.background = element_rect(fill=\"white\",size=2),legend.text=element_text(size=8,face=\"bold\"),\n",
    "        axis.text.x = element_text(size=7,angle=90, hjust=1,face=\"bold\"),\n",
    "        axis.text.y = element_text(face=\"bold\"),\n",
    "        plot.title = element_text(size = 10, face = \"bold\", hjust=0.5))+\n",
    "  scale_color_manual(name=c(\"% Positive Flu A\",\"% Positive Flu B\",\"Percent Positive\"),values=c(\"red\",\"blue\",\"black\"))+\n",
    "  scale_fill_manual(name=c(\"A\",\"B\"),values=c(\"yellow\",\"green\"))+\n",
    "labs(title=\"Influenza Positive Tests Reported to CDC by U.S. Clinical Laboratories,\n",
    "National Summary, 2018-2019 Season\",\n",
    "      x=\"WEEK\", caption=\"Source: CDC.gov\")+\n",
    "theme(plot.margin=unit(c(1,1,1.5,1),\"cm\"))"
   ]
  },
  {
   "cell_type": "code",
   "execution_count": 22,
   "metadata": {},
   "outputs": [
    {
     "data": {
      "image/png": "[encoded data removed]",
      "text/plain": [
       "plot without title"
      ]
     },
     "metadata": {},
     "output_type": "display_data"
    }
   ],
   "source": [
    "plt7"
   ]
  },
  {
   "cell_type": "markdown",
   "metadata": {},
   "source": [
    "## GRAPH 7"
   ]
  },
  {
   "cell_type": "code",
   "execution_count": 3,
   "metadata": {},
   "outputs": [],
   "source": [
    "gdata8 <- read.csv(\"Yearly_Graph7.csv\",header=T)\n",
    "gdata8.new <- mutate(gdata8,YEAR_WEEK=paste(YEAR, sprintf(\"%02d\",WEEK),sep=\"\"))\n",
    "gdata8.new <- subset(gdata8.new,(YEAR_WEEK<=201904))\n",
    "gdata8.temp <- subset(gdata8.new, select=c(\"A..Subtyping.not.Performed.\", \"A..2009.H1N1.\", \"A..H3.\",\"B\",\"BVic\",\"BYam\",\"H3N2v\",\"YEAR_WEEK\"))\n",
    "gdata8.new1 <- melt(gdata8.temp,id.var=\"YEAR_WEEK\")"
   ]
  },
  {
   "cell_type": "code",
   "execution_count": 4,
   "metadata": {},
   "outputs": [],
   "source": [
    "plt8 <- ggplot(gdata8.new1,aes(x=YEAR_WEEK,y=value,fill=variable))+ \n",
    "        scale_x_discrete(expand=c(0,0))+\n",
    "        scale_y_continuous(name = expression(\"number of positive specimen\"),\n",
    "                           breaks = seq(0,5000, by = 500),expand=c(0,0),limit=c(0,4500))+\n",
    "        geom_bar(color=\"black\",stat=\"identity\")+\n",
    "        theme(panel.grid.major = element_blank(), panel.grid.minor = element_blank(),\n",
    "        panel.background = element_blank(), axis.line = element_line(color = \"black\"),\n",
    "        legend.position=c(0.9,0.8),legend.box=\"vertical\",legend.title = element_blank(),\n",
    "        legend.background = element_rect(fill=\"white\",size=2),legend.text=element_text(size=8,face=\"bold\"),\n",
    "        axis.text.x = element_text(size=7,angle=90, hjust=1,face=\"bold\"),\n",
    "        axis.text.y = element_text(face=\"bold\"),\n",
    "        plot.title = element_text(size = 10, face = \"bold\", hjust=0.5))+\n",
    "        scale_fill_manual(name=c(\"A\",\"A(H1N1)2009\",\"A(H3N2)\",\"B\",\"B(Victoria)\",\"B(yamagata)\",\"H3N2v\"),\n",
    "                          values=c(\"yellow\",\"orange\",\"red\",\"darkgreen\",\"lightgreen\",\"green\",\"violet\"))+\n",
    "        labs(title=\"Influenza Positive Tests Reported to CDC by U.S. Public Health Laboratories,\n",
    "        National Summary, 2018-2019 Season\",\n",
    "      x=\"WEEK\", caption=\"Source: CDC.gov\")+\n",
    "       theme(plot.margin=unit(c(1,1,1.5,3),\"cm\"))"
   ]
  },
  {
   "cell_type": "code",
   "execution_count": 6,
   "metadata": {
    "collapsed": true
   },
   "outputs": [
    {
     "data": {
      "text/html": [
       "<table>\n",
       "<thead><tr><th scope=col>REGION.TYPE</th><th scope=col>REGION</th><th scope=col>YEAR</th><th scope=col>WEEK</th><th scope=col>TOTAL.SPECIMENS</th><th scope=col>A..2009.H1N1.</th><th scope=col>A..H3.</th><th scope=col>A..Subtyping.not.Performed.</th><th scope=col>B</th><th scope=col>BVic</th><th scope=col>BYam</th><th scope=col>H3N2v</th></tr></thead>\n",
       "<tbody>\n",
       "\t<tr><td>National</td><td>X       </td><td>2018    </td><td> 6      </td><td>6492    </td><td> 544    </td><td>2040    </td><td> 32     </td><td>329     </td><td>113     </td><td>931     </td><td>0       </td></tr>\n",
       "\t<tr><td>National</td><td>X       </td><td>2018    </td><td> 7      </td><td>5508    </td><td> 495    </td><td>1511    </td><td> 24     </td><td>251     </td><td>115     </td><td>931     </td><td>0       </td></tr>\n",
       "\t<tr><td>National</td><td>X       </td><td>2018    </td><td> 8      </td><td>4546    </td><td> 306    </td><td>1073    </td><td> 19     </td><td>245     </td><td>116     </td><td>891     </td><td>0       </td></tr>\n",
       "\t<tr><td>National</td><td>X       </td><td>2018    </td><td> 9      </td><td>3580    </td><td> 246    </td><td> 588    </td><td> 12     </td><td>204     </td><td> 88     </td><td>699     </td><td>0       </td></tr>\n",
       "\t<tr><td>National</td><td>X       </td><td>2018    </td><td>10      </td><td>3057    </td><td> 144    </td><td> 411    </td><td> 25     </td><td>172     </td><td> 88     </td><td>646     </td><td>0       </td></tr>\n",
       "\t<tr><td>National</td><td>X       </td><td>2018    </td><td>11      </td><td>2529    </td><td> 188    </td><td> 277    </td><td> 25     </td><td>174     </td><td> 70     </td><td>542     </td><td>0       </td></tr>\n",
       "\t<tr><td>National</td><td>X       </td><td>2018    </td><td>12      </td><td>2248    </td><td> 120    </td><td> 234    </td><td> 10     </td><td>129     </td><td> 52     </td><td>467     </td><td>0       </td></tr>\n",
       "\t<tr><td>National</td><td>X       </td><td>2018    </td><td>13      </td><td>1965    </td><td> 132    </td><td> 220    </td><td>  8     </td><td>107     </td><td> 62     </td><td>455     </td><td>0       </td></tr>\n",
       "\t<tr><td>National</td><td>X       </td><td>2018    </td><td>14      </td><td>1906    </td><td> 120    </td><td> 163    </td><td>  7     </td><td> 72     </td><td> 54     </td><td>405     </td><td>0       </td></tr>\n",
       "\t<tr><td>National</td><td>X       </td><td>2018    </td><td>15      </td><td>1481    </td><td> 101    </td><td> 102    </td><td>  2     </td><td> 54     </td><td> 40     </td><td>297     </td><td>0       </td></tr>\n",
       "\t<tr><td>National</td><td>X       </td><td>2018    </td><td>16      </td><td>1174    </td><td>  51    </td><td>  86    </td><td>  0     </td><td> 45     </td><td> 43     </td><td>211     </td><td>0       </td></tr>\n",
       "\t<tr><td>National</td><td>X       </td><td>2018    </td><td>17      </td><td>1028    </td><td>  56    </td><td>  53    </td><td>  1     </td><td> 53     </td><td> 28     </td><td>138     </td><td>0       </td></tr>\n",
       "\t<tr><td>National</td><td>X       </td><td>2018    </td><td>18      </td><td> 831    </td><td>  40    </td><td>  31    </td><td>  2     </td><td> 23     </td><td> 14     </td><td>137     </td><td>0       </td></tr>\n",
       "\t<tr><td>National</td><td>X       </td><td>2018    </td><td>19      </td><td> 599    </td><td>  16    </td><td>  20    </td><td>  0     </td><td>  8     </td><td>  6     </td><td> 68     </td><td>0       </td></tr>\n",
       "\t<tr><td>National</td><td>X       </td><td>2018    </td><td>20      </td><td> 464    </td><td>  16    </td><td>  10    </td><td>  0     </td><td> 10     </td><td>  6     </td><td> 27     </td><td>0       </td></tr>\n",
       "\t<tr><td>National</td><td>X       </td><td>2018    </td><td>21      </td><td> 344    </td><td>  18    </td><td>   6    </td><td>  0     </td><td>  8     </td><td>  4     </td><td> 20     </td><td>0       </td></tr>\n",
       "\t<tr><td>National</td><td>X       </td><td>2018    </td><td>22      </td><td> 265    </td><td>   8    </td><td>   5    </td><td>  0     </td><td>  2     </td><td>  2     </td><td> 11     </td><td>0       </td></tr>\n",
       "\t<tr><td>National</td><td>X       </td><td>2018    </td><td>23      </td><td> 286    </td><td>   7    </td><td>   3    </td><td>  0     </td><td>  3     </td><td>  3     </td><td>  9     </td><td>0       </td></tr>\n",
       "\t<tr><td>National</td><td>X       </td><td>2018    </td><td>24      </td><td> 283    </td><td>   6    </td><td>   3    </td><td>  0     </td><td>  2     </td><td>  3     </td><td>  8     </td><td>0       </td></tr>\n",
       "\t<tr><td>National</td><td>X       </td><td>2018    </td><td>25      </td><td> 213    </td><td>   1    </td><td>   3    </td><td>  0     </td><td>  0     </td><td>  3     </td><td>  6     </td><td>1       </td></tr>\n",
       "\t<tr><td>National</td><td>X       </td><td>2018    </td><td>26      </td><td> 197    </td><td>   2    </td><td>   6    </td><td>  0     </td><td>  0     </td><td>  0     </td><td>  1     </td><td>0       </td></tr>\n",
       "\t<tr><td>National</td><td>X       </td><td>2018    </td><td>27      </td><td> 131    </td><td>   9    </td><td>   5    </td><td>  0     </td><td>  1     </td><td>  0     </td><td>  6     </td><td>0       </td></tr>\n",
       "\t<tr><td>National</td><td>X       </td><td>2018    </td><td>28      </td><td> 176    </td><td>   8    </td><td>   9    </td><td>  0     </td><td>  1     </td><td>  2     </td><td>  3     </td><td>0       </td></tr>\n",
       "\t<tr><td>National</td><td>X       </td><td>2018    </td><td>29      </td><td> 174    </td><td>  15    </td><td>   5    </td><td>  0     </td><td>  3     </td><td>  2     </td><td>  4     </td><td>0       </td></tr>\n",
       "\t<tr><td>National</td><td>X       </td><td>2018    </td><td>30      </td><td> 243    </td><td>   9    </td><td>   3    </td><td>  4     </td><td>  0     </td><td>  2     </td><td>  0     </td><td>0       </td></tr>\n",
       "\t<tr><td>National</td><td>X       </td><td>2018    </td><td>31      </td><td> 185    </td><td>   7    </td><td>  10    </td><td>  3     </td><td>  0     </td><td>  0     </td><td>  1     </td><td>0       </td></tr>\n",
       "\t<tr><td>National</td><td>X       </td><td>2018    </td><td>32      </td><td> 164    </td><td>   6    </td><td>   8    </td><td>  5     </td><td>  1     </td><td>  0     </td><td>  2     </td><td>0       </td></tr>\n",
       "\t<tr><td>National</td><td>X       </td><td>2018    </td><td>33      </td><td> 181    </td><td>   5    </td><td>   9    </td><td>  6     </td><td>  1     </td><td>  0     </td><td>  2     </td><td>0       </td></tr>\n",
       "\t<tr><td>National</td><td>X       </td><td>2018    </td><td>34      </td><td> 259    </td><td>  17    </td><td>  20    </td><td>  6     </td><td>  1     </td><td>  0     </td><td>  1     </td><td>0       </td></tr>\n",
       "\t<tr><td>National</td><td>X       </td><td>2018    </td><td>35      </td><td> 258    </td><td>  10    </td><td>   6    </td><td>  0     </td><td>  0     </td><td>  0     </td><td>  2     </td><td>0       </td></tr>\n",
       "\t<tr><td>National</td><td>X       </td><td>2018    </td><td>36      </td><td> 351    </td><td>  17    </td><td>  17    </td><td>  0     </td><td>  1     </td><td>  0     </td><td>  1     </td><td>0       </td></tr>\n",
       "\t<tr><td>National</td><td>X       </td><td>2018    </td><td>37      </td><td> 446    </td><td>  29    </td><td>  14    </td><td>  0     </td><td>  0     </td><td>  1     </td><td>  5     </td><td>0       </td></tr>\n",
       "\t<tr><td>National</td><td>X       </td><td>2018    </td><td>38      </td><td> 535    </td><td>  22    </td><td>  17    </td><td>  2     </td><td>  2     </td><td>  1     </td><td>  2     </td><td>0       </td></tr>\n",
       "\t<tr><td>National</td><td>X       </td><td>2018    </td><td>39      </td><td> 561    </td><td>  20    </td><td>  13    </td><td>  0     </td><td>  0     </td><td>  0     </td><td>  3     </td><td>0       </td></tr>\n",
       "\t<tr><td>National</td><td>X       </td><td>2018    </td><td>40      </td><td> 795    </td><td>  29    </td><td>  11    </td><td>  7     </td><td>  0     </td><td>  7     </td><td> 11     </td><td>0       </td></tr>\n",
       "\t<tr><td>National</td><td>X       </td><td>2018    </td><td>41      </td><td> 900    </td><td>  52    </td><td>  11    </td><td>  7     </td><td>  5     </td><td>  3     </td><td>  5     </td><td>0       </td></tr>\n",
       "\t<tr><td>National</td><td>X       </td><td>2018    </td><td>42      </td><td>1090    </td><td>  51    </td><td>  21    </td><td> 13     </td><td>  1     </td><td>  2     </td><td> 14     </td><td>0       </td></tr>\n",
       "\t<tr><td>National</td><td>X       </td><td>2018    </td><td>43      </td><td>1102    </td><td>  74    </td><td>  35    </td><td>  3     </td><td>  3     </td><td>  0     </td><td> 13     </td><td>0       </td></tr>\n",
       "\t<tr><td>National</td><td>X       </td><td>2018    </td><td>44      </td><td>1228    </td><td>  84    </td><td>  23    </td><td>  2     </td><td>  1     </td><td>  1     </td><td>  8     </td><td>0       </td></tr>\n",
       "\t<tr><td>National</td><td>X       </td><td>2018    </td><td>45      </td><td>1310    </td><td> 117    </td><td>  27    </td><td> 14     </td><td>  4     </td><td>  4     </td><td>  7     </td><td>0       </td></tr>\n",
       "\t<tr><td>National</td><td>X       </td><td>2018    </td><td>46      </td><td>1400    </td><td> 147    </td><td>  40    </td><td>  9     </td><td>  0     </td><td>  2     </td><td>  3     </td><td>0       </td></tr>\n",
       "\t<tr><td>National</td><td>X       </td><td>2018    </td><td>47      </td><td>1106    </td><td> 211    </td><td>  53    </td><td>  9     </td><td>  1     </td><td>  2     </td><td>  5     </td><td>0       </td></tr>\n",
       "\t<tr><td>National</td><td>X       </td><td>2018    </td><td>48      </td><td>1681    </td><td> 321    </td><td>  63    </td><td>  9     </td><td>  1     </td><td>  2     </td><td> 10     </td><td>0       </td></tr>\n",
       "\t<tr><td>National</td><td>X       </td><td>2018    </td><td>49      </td><td>1690    </td><td> 355    </td><td>  89    </td><td> 14     </td><td>  8     </td><td>  3     </td><td>  7     </td><td>0       </td></tr>\n",
       "\t<tr><td>National</td><td>X       </td><td>2018    </td><td>50      </td><td>2149    </td><td> 667    </td><td> 166    </td><td> 16     </td><td>  3     </td><td>  7     </td><td>  6     </td><td>0       </td></tr>\n",
       "\t<tr><td>National</td><td>X       </td><td>2018    </td><td>51      </td><td>2607    </td><td>1100    </td><td> 227    </td><td> 78     </td><td>  9     </td><td> 20     </td><td>  7     </td><td>0       </td></tr>\n",
       "\t<tr><td>National</td><td>X       </td><td>2018    </td><td>52      </td><td>2524    </td><td>1216    </td><td> 263    </td><td>113     </td><td>  9     </td><td> 18     </td><td>  9     </td><td>0       </td></tr>\n",
       "\t<tr><td>National</td><td>X       </td><td>2019    </td><td> 1      </td><td>2755    </td><td>1125    </td><td> 270    </td><td>168     </td><td>  6     </td><td>  6     </td><td> 14     </td><td>0       </td></tr>\n",
       "\t<tr><td>National</td><td>X       </td><td>2019    </td><td> 2      </td><td>3117    </td><td>1345    </td><td> 218    </td><td>105     </td><td> 14     </td><td>  2     </td><td> 14     </td><td>0       </td></tr>\n",
       "\t<tr><td>National</td><td>X       </td><td>2019    </td><td> 3      </td><td>2997    </td><td>1348    </td><td> 319    </td><td> 33     </td><td>  9     </td><td> 15     </td><td> 14     </td><td>0       </td></tr>\n",
       "\t<tr><td>National</td><td>X       </td><td>2019    </td><td> 4      </td><td>3074    </td><td>1329    </td><td> 441    </td><td> 50     </td><td> 12     </td><td> 15     </td><td>  9     </td><td>0       </td></tr>\n",
       "\t<tr><td>National</td><td>X       </td><td>2019    </td><td> 5      </td><td>3393    </td><td>1360    </td><td> 641    </td><td> 33     </td><td> 14     </td><td> 20     </td><td> 14     </td><td>0       </td></tr>\n",
       "\t<tr><td>National</td><td>X       </td><td>2019    </td><td> 6      </td><td>3364    </td><td>1260    </td><td> 757    </td><td> 29     </td><td> 11     </td><td>  8     </td><td>  5     </td><td>0       </td></tr>\n",
       "\t<tr><td>National</td><td>X       </td><td>2019    </td><td> 7      </td><td>1792    </td><td> 529    </td><td> 467    </td><td> 62     </td><td>  7     </td><td>  7     </td><td>  3     </td><td>0       </td></tr>\n",
       "</tbody>\n",
       "</table>\n"
      ],
      "text/latex": [
       "\\begin{tabular}{r|llllllllllll}\n",
       " REGION.TYPE & REGION & YEAR & WEEK & TOTAL.SPECIMENS & A..2009.H1N1. & A..H3. & A..Subtyping.not.Performed. & B & BVic & BYam & H3N2v\\\\\n",
       "\\hline\n",
       "\t National & X        & 2018     &  6       & 6492     &  544     & 2040     &  32      & 329      & 113      & 931      & 0       \\\\\n",
       "\t National & X        & 2018     &  7       & 5508     &  495     & 1511     &  24      & 251      & 115      & 931      & 0       \\\\\n",
       "\t National & X        & 2018     &  8       & 4546     &  306     & 1073     &  19      & 245      & 116      & 891      & 0       \\\\\n",
       "\t National & X        & 2018     &  9       & 3580     &  246     &  588     &  12      & 204      &  88      & 699      & 0       \\\\\n",
       "\t National & X        & 2018     & 10       & 3057     &  144     &  411     &  25      & 172      &  88      & 646      & 0       \\\\\n",
       "\t National & X        & 2018     & 11       & 2529     &  188     &  277     &  25      & 174      &  70      & 542      & 0       \\\\\n",
       "\t National & X        & 2018     & 12       & 2248     &  120     &  234     &  10      & 129      &  52      & 467      & 0       \\\\\n",
       "\t National & X        & 2018     & 13       & 1965     &  132     &  220     &   8      & 107      &  62      & 455      & 0       \\\\\n",
       "\t National & X        & 2018     & 14       & 1906     &  120     &  163     &   7      &  72      &  54      & 405      & 0       \\\\\n",
       "\t National & X        & 2018     & 15       & 1481     &  101     &  102     &   2      &  54      &  40      & 297      & 0       \\\\\n",
       "\t National & X        & 2018     & 16       & 1174     &   51     &   86     &   0      &  45      &  43      & 211      & 0       \\\\\n",
       "\t National & X        & 2018     & 17       & 1028     &   56     &   53     &   1      &  53      &  28      & 138      & 0       \\\\\n",
       "\t National & X        & 2018     & 18       &  831     &   40     &   31     &   2      &  23      &  14      & 137      & 0       \\\\\n",
       "\t National & X        & 2018     & 19       &  599     &   16     &   20     &   0      &   8      &   6      &  68      & 0       \\\\\n",
       "\t National & X        & 2018     & 20       &  464     &   16     &   10     &   0      &  10      &   6      &  27      & 0       \\\\\n",
       "\t National & X        & 2018     & 21       &  344     &   18     &    6     &   0      &   8      &   4      &  20      & 0       \\\\\n",
       "\t National & X        & 2018     & 22       &  265     &    8     &    5     &   0      &   2      &   2      &  11      & 0       \\\\\n",
       "\t National & X        & 2018     & 23       &  286     &    7     &    3     &   0      &   3      &   3      &   9      & 0       \\\\\n",
       "\t National & X        & 2018     & 24       &  283     &    6     &    3     &   0      &   2      &   3      &   8      & 0       \\\\\n",
       "\t National & X        & 2018     & 25       &  213     &    1     &    3     &   0      &   0      &   3      &   6      & 1       \\\\\n",
       "\t National & X        & 2018     & 26       &  197     &    2     &    6     &   0      &   0      &   0      &   1      & 0       \\\\\n",
       "\t National & X        & 2018     & 27       &  131     &    9     &    5     &   0      &   1      &   0      &   6      & 0       \\\\\n",
       "\t National & X        & 2018     & 28       &  176     &    8     &    9     &   0      &   1      &   2      &   3      & 0       \\\\\n",
       "\t National & X        & 2018     & 29       &  174     &   15     &    5     &   0      &   3      &   2      &   4      & 0       \\\\\n",
       "\t National & X        & 2018     & 30       &  243     &    9     &    3     &   4      &   0      &   2      &   0      & 0       \\\\\n",
       "\t National & X        & 2018     & 31       &  185     &    7     &   10     &   3      &   0      &   0      &   1      & 0       \\\\\n",
       "\t National & X        & 2018     & 32       &  164     &    6     &    8     &   5      &   1      &   0      &   2      & 0       \\\\\n",
       "\t National & X        & 2018     & 33       &  181     &    5     &    9     &   6      &   1      &   0      &   2      & 0       \\\\\n",
       "\t National & X        & 2018     & 34       &  259     &   17     &   20     &   6      &   1      &   0      &   1      & 0       \\\\\n",
       "\t National & X        & 2018     & 35       &  258     &   10     &    6     &   0      &   0      &   0      &   2      & 0       \\\\\n",
       "\t National & X        & 2018     & 36       &  351     &   17     &   17     &   0      &   1      &   0      &   1      & 0       \\\\\n",
       "\t National & X        & 2018     & 37       &  446     &   29     &   14     &   0      &   0      &   1      &   5      & 0       \\\\\n",
       "\t National & X        & 2018     & 38       &  535     &   22     &   17     &   2      &   2      &   1      &   2      & 0       \\\\\n",
       "\t National & X        & 2018     & 39       &  561     &   20     &   13     &   0      &   0      &   0      &   3      & 0       \\\\\n",
       "\t National & X        & 2018     & 40       &  795     &   29     &   11     &   7      &   0      &   7      &  11      & 0       \\\\\n",
       "\t National & X        & 2018     & 41       &  900     &   52     &   11     &   7      &   5      &   3      &   5      & 0       \\\\\n",
       "\t National & X        & 2018     & 42       & 1090     &   51     &   21     &  13      &   1      &   2      &  14      & 0       \\\\\n",
       "\t National & X        & 2018     & 43       & 1102     &   74     &   35     &   3      &   3      &   0      &  13      & 0       \\\\\n",
       "\t National & X        & 2018     & 44       & 1228     &   84     &   23     &   2      &   1      &   1      &   8      & 0       \\\\\n",
       "\t National & X        & 2018     & 45       & 1310     &  117     &   27     &  14      &   4      &   4      &   7      & 0       \\\\\n",
       "\t National & X        & 2018     & 46       & 1400     &  147     &   40     &   9      &   0      &   2      &   3      & 0       \\\\\n",
       "\t National & X        & 2018     & 47       & 1106     &  211     &   53     &   9      &   1      &   2      &   5      & 0       \\\\\n",
       "\t National & X        & 2018     & 48       & 1681     &  321     &   63     &   9      &   1      &   2      &  10      & 0       \\\\\n",
       "\t National & X        & 2018     & 49       & 1690     &  355     &   89     &  14      &   8      &   3      &   7      & 0       \\\\\n",
       "\t National & X        & 2018     & 50       & 2149     &  667     &  166     &  16      &   3      &   7      &   6      & 0       \\\\\n",
       "\t National & X        & 2018     & 51       & 2607     & 1100     &  227     &  78      &   9      &  20      &   7      & 0       \\\\\n",
       "\t National & X        & 2018     & 52       & 2524     & 1216     &  263     & 113      &   9      &  18      &   9      & 0       \\\\\n",
       "\t National & X        & 2019     &  1       & 2755     & 1125     &  270     & 168      &   6      &   6      &  14      & 0       \\\\\n",
       "\t National & X        & 2019     &  2       & 3117     & 1345     &  218     & 105      &  14      &   2      &  14      & 0       \\\\\n",
       "\t National & X        & 2019     &  3       & 2997     & 1348     &  319     &  33      &   9      &  15      &  14      & 0       \\\\\n",
       "\t National & X        & 2019     &  4       & 3074     & 1329     &  441     &  50      &  12      &  15      &   9      & 0       \\\\\n",
       "\t National & X        & 2019     &  5       & 3393     & 1360     &  641     &  33      &  14      &  20      &  14      & 0       \\\\\n",
       "\t National & X        & 2019     &  6       & 3364     & 1260     &  757     &  29      &  11      &   8      &   5      & 0       \\\\\n",
       "\t National & X        & 2019     &  7       & 1792     &  529     &  467     &  62      &   7      &   7      &   3      & 0       \\\\\n",
       "\\end{tabular}\n"
      ],
      "text/markdown": [
       "\n",
       "| REGION.TYPE | REGION | YEAR | WEEK | TOTAL.SPECIMENS | A..2009.H1N1. | A..H3. | A..Subtyping.not.Performed. | B | BVic | BYam | H3N2v |\n",
       "|---|---|---|---|---|---|---|---|---|---|---|---|\n",
       "| National | X        | 2018     |  6       | 6492     |  544     | 2040     |  32      | 329      | 113      | 931      | 0        |\n",
       "| National | X        | 2018     |  7       | 5508     |  495     | 1511     |  24      | 251      | 115      | 931      | 0        |\n",
       "| National | X        | 2018     |  8       | 4546     |  306     | 1073     |  19      | 245      | 116      | 891      | 0        |\n",
       "| National | X        | 2018     |  9       | 3580     |  246     |  588     |  12      | 204      |  88      | 699      | 0        |\n",
       "| National | X        | 2018     | 10       | 3057     |  144     |  411     |  25      | 172      |  88      | 646      | 0        |\n",
       "| National | X        | 2018     | 11       | 2529     |  188     |  277     |  25      | 174      |  70      | 542      | 0        |\n",
       "| National | X        | 2018     | 12       | 2248     |  120     |  234     |  10      | 129      |  52      | 467      | 0        |\n",
       "| National | X        | 2018     | 13       | 1965     |  132     |  220     |   8      | 107      |  62      | 455      | 0        |\n",
       "| National | X        | 2018     | 14       | 1906     |  120     |  163     |   7      |  72      |  54      | 405      | 0        |\n",
       "| National | X        | 2018     | 15       | 1481     |  101     |  102     |   2      |  54      |  40      | 297      | 0        |\n",
       "| National | X        | 2018     | 16       | 1174     |   51     |   86     |   0      |  45      |  43      | 211      | 0        |\n",
       "| National | X        | 2018     | 17       | 1028     |   56     |   53     |   1      |  53      |  28      | 138      | 0        |\n",
       "| National | X        | 2018     | 18       |  831     |   40     |   31     |   2      |  23      |  14      | 137      | 0        |\n",
       "| National | X        | 2018     | 19       |  599     |   16     |   20     |   0      |   8      |   6      |  68      | 0        |\n",
       "| National | X        | 2018     | 20       |  464     |   16     |   10     |   0      |  10      |   6      |  27      | 0        |\n",
       "| National | X        | 2018     | 21       |  344     |   18     |    6     |   0      |   8      |   4      |  20      | 0        |\n",
       "| National | X        | 2018     | 22       |  265     |    8     |    5     |   0      |   2      |   2      |  11      | 0        |\n",
       "| National | X        | 2018     | 23       |  286     |    7     |    3     |   0      |   3      |   3      |   9      | 0        |\n",
       "| National | X        | 2018     | 24       |  283     |    6     |    3     |   0      |   2      |   3      |   8      | 0        |\n",
       "| National | X        | 2018     | 25       |  213     |    1     |    3     |   0      |   0      |   3      |   6      | 1        |\n",
       "| National | X        | 2018     | 26       |  197     |    2     |    6     |   0      |   0      |   0      |   1      | 0        |\n",
       "| National | X        | 2018     | 27       |  131     |    9     |    5     |   0      |   1      |   0      |   6      | 0        |\n",
       "| National | X        | 2018     | 28       |  176     |    8     |    9     |   0      |   1      |   2      |   3      | 0        |\n",
       "| National | X        | 2018     | 29       |  174     |   15     |    5     |   0      |   3      |   2      |   4      | 0        |\n",
       "| National | X        | 2018     | 30       |  243     |    9     |    3     |   4      |   0      |   2      |   0      | 0        |\n",
       "| National | X        | 2018     | 31       |  185     |    7     |   10     |   3      |   0      |   0      |   1      | 0        |\n",
       "| National | X        | 2018     | 32       |  164     |    6     |    8     |   5      |   1      |   0      |   2      | 0        |\n",
       "| National | X        | 2018     | 33       |  181     |    5     |    9     |   6      |   1      |   0      |   2      | 0        |\n",
       "| National | X        | 2018     | 34       |  259     |   17     |   20     |   6      |   1      |   0      |   1      | 0        |\n",
       "| National | X        | 2018     | 35       |  258     |   10     |    6     |   0      |   0      |   0      |   2      | 0        |\n",
       "| National | X        | 2018     | 36       |  351     |   17     |   17     |   0      |   1      |   0      |   1      | 0        |\n",
       "| National | X        | 2018     | 37       |  446     |   29     |   14     |   0      |   0      |   1      |   5      | 0        |\n",
       "| National | X        | 2018     | 38       |  535     |   22     |   17     |   2      |   2      |   1      |   2      | 0        |\n",
       "| National | X        | 2018     | 39       |  561     |   20     |   13     |   0      |   0      |   0      |   3      | 0        |\n",
       "| National | X        | 2018     | 40       |  795     |   29     |   11     |   7      |   0      |   7      |  11      | 0        |\n",
       "| National | X        | 2018     | 41       |  900     |   52     |   11     |   7      |   5      |   3      |   5      | 0        |\n",
       "| National | X        | 2018     | 42       | 1090     |   51     |   21     |  13      |   1      |   2      |  14      | 0        |\n",
       "| National | X        | 2018     | 43       | 1102     |   74     |   35     |   3      |   3      |   0      |  13      | 0        |\n",
       "| National | X        | 2018     | 44       | 1228     |   84     |   23     |   2      |   1      |   1      |   8      | 0        |\n",
       "| National | X        | 2018     | 45       | 1310     |  117     |   27     |  14      |   4      |   4      |   7      | 0        |\n",
       "| National | X        | 2018     | 46       | 1400     |  147     |   40     |   9      |   0      |   2      |   3      | 0        |\n",
       "| National | X        | 2018     | 47       | 1106     |  211     |   53     |   9      |   1      |   2      |   5      | 0        |\n",
       "| National | X        | 2018     | 48       | 1681     |  321     |   63     |   9      |   1      |   2      |  10      | 0        |\n",
       "| National | X        | 2018     | 49       | 1690     |  355     |   89     |  14      |   8      |   3      |   7      | 0        |\n",
       "| National | X        | 2018     | 50       | 2149     |  667     |  166     |  16      |   3      |   7      |   6      | 0        |\n",
       "| National | X        | 2018     | 51       | 2607     | 1100     |  227     |  78      |   9      |  20      |   7      | 0        |\n",
       "| National | X        | 2018     | 52       | 2524     | 1216     |  263     | 113      |   9      |  18      |   9      | 0        |\n",
       "| National | X        | 2019     |  1       | 2755     | 1125     |  270     | 168      |   6      |   6      |  14      | 0        |\n",
       "| National | X        | 2019     |  2       | 3117     | 1345     |  218     | 105      |  14      |   2      |  14      | 0        |\n",
       "| National | X        | 2019     |  3       | 2997     | 1348     |  319     |  33      |   9      |  15      |  14      | 0        |\n",
       "| National | X        | 2019     |  4       | 3074     | 1329     |  441     |  50      |  12      |  15      |   9      | 0        |\n",
       "| National | X        | 2019     |  5       | 3393     | 1360     |  641     |  33      |  14      |  20      |  14      | 0        |\n",
       "| National | X        | 2019     |  6       | 3364     | 1260     |  757     |  29      |  11      |   8      |   5      | 0        |\n",
       "| National | X        | 2019     |  7       | 1792     |  529     |  467     |  62      |   7      |   7      |   3      | 0        |\n",
       "\n"
      ],
      "text/plain": [
       "   REGION.TYPE REGION YEAR WEEK TOTAL.SPECIMENS A..2009.H1N1. A..H3.\n",
       "1  National    X      2018  6   6492             544          2040  \n",
       "2  National    X      2018  7   5508             495          1511  \n",
       "3  National    X      2018  8   4546             306          1073  \n",
       "4  National    X      2018  9   3580             246           588  \n",
       "5  National    X      2018 10   3057             144           411  \n",
       "6  National    X      2018 11   2529             188           277  \n",
       "7  National    X      2018 12   2248             120           234  \n",
       "8  National    X      2018 13   1965             132           220  \n",
       "9  National    X      2018 14   1906             120           163  \n",
       "10 National    X      2018 15   1481             101           102  \n",
       "11 National    X      2018 16   1174              51            86  \n",
       "12 National    X      2018 17   1028              56            53  \n",
       "13 National    X      2018 18    831              40            31  \n",
       "14 National    X      2018 19    599              16            20  \n",
       "15 National    X      2018 20    464              16            10  \n",
       "16 National    X      2018 21    344              18             6  \n",
       "17 National    X      2018 22    265               8             5  \n",
       "18 National    X      2018 23    286               7             3  \n",
       "19 National    X      2018 24    283               6             3  \n",
       "20 National    X      2018 25    213               1             3  \n",
       "21 National    X      2018 26    197               2             6  \n",
       "22 National    X      2018 27    131               9             5  \n",
       "23 National    X      2018 28    176               8             9  \n",
       "24 National    X      2018 29    174              15             5  \n",
       "25 National    X      2018 30    243               9             3  \n",
       "26 National    X      2018 31    185               7            10  \n",
       "27 National    X      2018 32    164               6             8  \n",
       "28 National    X      2018 33    181               5             9  \n",
       "29 National    X      2018 34    259              17            20  \n",
       "30 National    X      2018 35    258              10             6  \n",
       "31 National    X      2018 36    351              17            17  \n",
       "32 National    X      2018 37    446              29            14  \n",
       "33 National    X      2018 38    535              22            17  \n",
       "34 National    X      2018 39    561              20            13  \n",
       "35 National    X      2018 40    795              29            11  \n",
       "36 National    X      2018 41    900              52            11  \n",
       "37 National    X      2018 42   1090              51            21  \n",
       "38 National    X      2018 43   1102              74            35  \n",
       "39 National    X      2018 44   1228              84            23  \n",
       "40 National    X      2018 45   1310             117            27  \n",
       "41 National    X      2018 46   1400             147            40  \n",
       "42 National    X      2018 47   1106             211            53  \n",
       "43 National    X      2018 48   1681             321            63  \n",
       "44 National    X      2018 49   1690             355            89  \n",
       "45 National    X      2018 50   2149             667           166  \n",
       "46 National    X      2018 51   2607            1100           227  \n",
       "47 National    X      2018 52   2524            1216           263  \n",
       "48 National    X      2019  1   2755            1125           270  \n",
       "49 National    X      2019  2   3117            1345           218  \n",
       "50 National    X      2019  3   2997            1348           319  \n",
       "51 National    X      2019  4   3074            1329           441  \n",
       "52 National    X      2019  5   3393            1360           641  \n",
       "53 National    X      2019  6   3364            1260           757  \n",
       "54 National    X      2019  7   1792             529           467  \n",
       "   A..Subtyping.not.Performed. B   BVic BYam H3N2v\n",
       "1   32                         329 113  931  0    \n",
       "2   24                         251 115  931  0    \n",
       "3   19                         245 116  891  0    \n",
       "4   12                         204  88  699  0    \n",
       "5   25                         172  88  646  0    \n",
       "6   25                         174  70  542  0    \n",
       "7   10                         129  52  467  0    \n",
       "8    8                         107  62  455  0    \n",
       "9    7                          72  54  405  0    \n",
       "10   2                          54  40  297  0    \n",
       "11   0                          45  43  211  0    \n",
       "12   1                          53  28  138  0    \n",
       "13   2                          23  14  137  0    \n",
       "14   0                           8   6   68  0    \n",
       "15   0                          10   6   27  0    \n",
       "16   0                           8   4   20  0    \n",
       "17   0                           2   2   11  0    \n",
       "18   0                           3   3    9  0    \n",
       "19   0                           2   3    8  0    \n",
       "20   0                           0   3    6  1    \n",
       "21   0                           0   0    1  0    \n",
       "22   0                           1   0    6  0    \n",
       "23   0                           1   2    3  0    \n",
       "24   0                           3   2    4  0    \n",
       "25   4                           0   2    0  0    \n",
       "26   3                           0   0    1  0    \n",
       "27   5                           1   0    2  0    \n",
       "28   6                           1   0    2  0    \n",
       "29   6                           1   0    1  0    \n",
       "30   0                           0   0    2  0    \n",
       "31   0                           1   0    1  0    \n",
       "32   0                           0   1    5  0    \n",
       "33   2                           2   1    2  0    \n",
       "34   0                           0   0    3  0    \n",
       "35   7                           0   7   11  0    \n",
       "36   7                           5   3    5  0    \n",
       "37  13                           1   2   14  0    \n",
       "38   3                           3   0   13  0    \n",
       "39   2                           1   1    8  0    \n",
       "40  14                           4   4    7  0    \n",
       "41   9                           0   2    3  0    \n",
       "42   9                           1   2    5  0    \n",
       "43   9                           1   2   10  0    \n",
       "44  14                           8   3    7  0    \n",
       "45  16                           3   7    6  0    \n",
       "46  78                           9  20    7  0    \n",
       "47 113                           9  18    9  0    \n",
       "48 168                           6   6   14  0    \n",
       "49 105                          14   2   14  0    \n",
       "50  33                           9  15   14  0    \n",
       "51  50                          12  15    9  0    \n",
       "52  33                          14  20   14  0    \n",
       "53  29                          11   8    5  0    \n",
       "54  62                           7   7    3  0    "
      ]
     },
     "metadata": {},
     "output_type": "display_data"
    }
   ],
   "source": [
    "gdata8"
   ]
  },
  {
   "cell_type": "code",
   "execution_count": 5,
   "metadata": {},
   "outputs": [
    {
     "data": {
      "image/png": "[encoded data removed]",
      "text/plain": [
       "plot without title"
      ]
     },
     "metadata": {},
     "output_type": "display_data"
    }
   ],
   "source": [
    "plt8"
   ]
  },
  {
   "cell_type": "markdown",
   "metadata": {},
   "source": [
    "## GRAPH 8"
   ]
  },
  {
   "cell_type": "markdown",
   "metadata": {},
   "source": [
    "### NEWYORK"
   ]
  },
  {
   "cell_type": "code",
   "execution_count": 5,
   "metadata": {},
   "outputs": [],
   "source": [
    "graph9 = read.csv(\"GRAPH1_NY_YEARLY.csv\",header = TRUE)\n",
    "gdata9 <- mutate(graph9,YEAR_WEEK=paste(YEAR, sprintf(\"%02d\",WEEK),sep=\"\"))\n",
    "gdata9 <- subset(gdata9,(YEAR_WEEK>=201805 & YEAR_WEEK <=201904))\n",
    "gdata9.new <- subset(gdata9, select=c(\"TOTAL.A\", \"TOTAL.B\", \"YEAR_WEEK\"))\n",
    "gdata9.new1 <- melt(gdata9.new,id.var=\"YEAR_WEEK\")\n",
    "#head(gdata9.new1)"
   ]
  },
  {
   "cell_type": "code",
   "execution_count": 8,
   "metadata": {},
   "outputs": [
    {
     "name": "stdout",
     "output_type": "stream",
     "text": [
      "[1] 1513\n",
      "[1] 26.11399\n"
     ]
    }
   ],
   "source": [
    "A_max = max(gdata9$TOTAL.A, na.rm = TRUE)\n",
    "print(A_max)\n",
    "Per_max = max(gdata9$PERCENT.POSITIVE, na.rm = TRUE)\n",
    "scale.point = (A_max/Per_max)-20\n",
    "print(scale.point)\n",
    "plt9 <- ggplot(gdata9,aes(x=YEAR_WEEK)) +\n",
    "  geom_bar(data=gdata9.new1,aes(x=YEAR_WEEK,y=value,fill=variable),stat=\"identity\",color=\"black\") + \n",
    "  scale_x_discrete(expand=c(0,0))+\n",
    "  scale_y_continuous(name = expression(\"Number of Positive Specimen\"),\n",
    "                    expand=c(0,0),sec.axis = sec_axis(~.*1/scale.point,name = \"Percent Positive\"),limits=c(0,A_max+2000))+\n",
    "  geom_line(aes(y=as.numeric((PERCENT.POSITIVE)*scale.point),group=1,color=\"Percent Positive\"),linetype=\"solid\",stat=\"identity\", size=1)+\n",
    "  geom_line(aes(y=as.numeric((PERCENT.A)*scale.point),group=1,color=\"% Positive Flu A\"),linetype=\"dashed\",stat=\"identity\", size=0.6)+\n",
    "  geom_line(aes(y=as.numeric((PERCENT.B)*scale.point),group=1,color=\"% Positive Flu B\"),linetype=\"dotted\",stat=\"identity\", size=1)+\n",
    "  theme(panel.grid.major = element_blank(), panel.grid.minor = element_blank(),\n",
    "        panel.background = element_blank(), axis.line = element_line(color = \"black\"),\n",
    "        legend.position=c(0.85,0.8),legend.box=\"vertical\",legend.title = element_blank(),\n",
    "        legend.background = element_rect(fill=\"white\",size=2),legend.text=element_text(size=8,face=\"bold\"),\n",
    "        axis.text.x = element_text(size=7,angle=90, hjust=1,face=\"bold\"),\n",
    "        axis.text.y = element_text(face=\"bold\"),\n",
    "        plot.title = element_text(size = 10, face = \"bold\", hjust=0.5))+\n",
    "  scale_color_manual(name=c(\"% Positive Flu A\",\"% Positive Flu B\",\"Percent Positive\"),values=c(\"red\",\"blue\",\"black\"))+\n",
    "  scale_fill_manual(name=c(\"A\",\"B\"),values=c(\"yellow\",\"green\"))+\n",
    "labs(title=\"Influenza Positive Tests Reported to CDC by U.S. Clinical Laboratories,\n",
    "National Summary, 2018-2019 Season\",\n",
    "      x=\"WEEK\", caption=\"Source: CDC.gov\")+\n",
    "theme(plot.margin=unit(c(1,1,1.5,1),\"cm\"))"
   ]
  },
  {
   "cell_type": "markdown",
   "metadata": {},
   "source": [
    "#### plt9"
   ]
  },
  {
   "cell_type": "markdown",
   "metadata": {},
   "source": [
    "## Saving images to disk"
   ]
  },
  {
   "cell_type": "code",
   "execution_count": 70,
   "metadata": {},
   "outputs": [
    {
     "data": {
      "text/html": [
       "<strong>png:</strong> 2"
      ],
      "text/latex": [
       "\\textbf{png:} 2"
      ],
      "text/markdown": [
       "**png:** 2"
      ],
      "text/plain": [
       "png \n",
       "  2 "
      ]
     },
     "metadata": {},
     "output_type": "display_data"
    }
   ],
   "source": [
    "jpeg('rplot.jpg')\n",
    "plt2\n",
    "dev.off()"
   ]
  },
  {
   "cell_type": "code",
   "execution_count": 9,
   "metadata": {},
   "outputs": [
    {
     "data": {
      "image/png": "[encoded data removed]",
      "text/plain": [
       "plot without title"
      ]
     },
     "metadata": {},
     "output_type": "display_data"
    }
   ],
   "source": [
    "plt9"
   ]
  },
  {
   "cell_type": "code",
   "execution_count": null,
   "metadata": {},
   "outputs": [],
   "source": []
  }
 ],
 "metadata": {
  "kernelspec": {
   "display_name": "R",
   "language": "R",
   "name": "ir"
  },
  "language_info": {
   "codemirror_mode": "r",
   "file_extension": ".r",
   "mimetype": "text/x-r-source",
   "name": "R",
   "pygments_lexer": "r",
   "version": "3.5.2"
  }
 },
 "nbformat": 4,
 "nbformat_minor": 2
}
